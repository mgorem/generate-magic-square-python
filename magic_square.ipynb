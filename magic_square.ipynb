{
 "cells": [
  {
   "cell_type": "code",
   "execution_count": 1,
   "metadata": {},
   "outputs": [],
   "source": [
    "# Defining a fuction named magic square\n",
    "def magic_square(matrix_ms):\n",
    "    iSize = len(matrix_ms[0])\n",
    "    sum_list = []\n",
    "\n",
    "    # Vertical squares\n",
    "    for col in range(iSize):\n",
    "        sum_list.append(sum(row[col] for row in matrix_ms))\n",
    "\n",
    "    # Horizontal squares\n",
    "        sum_list.extend([sum (lines) for lines in matrix_ms])\n",
    "\n",
    "        dlResult = 0\n",
    "        for i in range(0,iSize):\n",
    "            dlResult +=matrix_ms[i][i]\n",
    "        sum_list.append(dlResult)\n",
    "        drResult = 0\n",
    "        for i in range(iSize-1,-1,-1):\n",
    "            drResult +=matrix_ms[i][i]\n",
    "        sum_list.append(drResult)\n",
    "        if len(set(sum_list))>1:\n",
    "            return False\n",
    "        return True"
   ]
  },
  {
   "cell_type": "code",
   "execution_count": 2,
   "metadata": {},
   "outputs": [
    {
     "name": "stdout",
     "output_type": "stream",
     "text": [
      "False\n"
     ]
    }
   ],
   "source": [
    "print(magic_square([[1,2,3], [4,5,6], [7,8,9]]))"
   ]
  },
  {
   "cell_type": "code",
   "execution_count": 3,
   "metadata": {},
   "outputs": [
    {
     "name": "stdout",
     "output_type": "stream",
     "text": [
      "False\n"
     ]
    }
   ],
   "source": [
    "print(magic_square([[3,9,2], [3,5,7], [9,1,6]]))"
   ]
  },
  {
   "cell_type": "code",
   "execution_count": null,
   "metadata": {},
   "outputs": [],
   "source": []
  }
 ],
 "metadata": {
  "interpreter": {
   "hash": "0cc6963117ea79f261118d3c46aeef2374f9d318080aacbef84d6c16a0cc8708"
  },
  "kernelspec": {
   "display_name": "Python 3.10.4 ('magic': venv)",
   "language": "python",
   "name": "python3"
  },
  "language_info": {
   "codemirror_mode": {
    "name": "ipython",
    "version": 3
   },
   "file_extension": ".py",
   "mimetype": "text/x-python",
   "name": "python",
   "nbconvert_exporter": "python",
   "pygments_lexer": "ipython3",
   "version": "3.10.4"
  },
  "orig_nbformat": 4
 },
 "nbformat": 4,
 "nbformat_minor": 2
}
